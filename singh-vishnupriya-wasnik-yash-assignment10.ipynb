{
 "cells": [
  {
   "cell_type": "markdown",
   "id": "ece5441f",
   "metadata": {},
   "source": [
    "## HW - 10 - ywasni2, vpsingh2"
   ]
  },
  {
   "cell_type": "code",
   "execution_count": 1,
   "id": "d62a233b",
   "metadata": {},
   "outputs": [],
   "source": [
    "import altair as alt\n",
    "import pandas as pd"
   ]
  },
  {
   "cell_type": "code",
   "execution_count": 17,
   "id": "5e5ee399",
   "metadata": {},
   "outputs": [
    {
     "data": {
      "text/plain": [
       "array(['Astoria', 'Golconda', 'Utica', 'Carlyle', 'Augusta', 'Windsor',\n",
       "       'Dwight', 'Joliet', 'East St Louis', 'Fithian', 'Effingham',\n",
       "       'Marseilles', 'Duquoin', 'University Park', 'Plainview',\n",
       "       'Springfield', 'Oakland', 'Oakwood', 'Clinton', 'Lake Zurich',\n",
       "       'Litchfield', 'Lebanon', 'Andover', 'Pecatonica', 'Normal',\n",
       "       'Clayton', 'Wyoming', 'Georgetown', 'Chandlerville', 'Oregon',\n",
       "       'Kewanee', 'Sullivan', 'Whittington', 'Bogota', 'St Charles',\n",
       "       'Lincoln', 'Steeleville', 'Chicago', 'Nauvoo', 'Morris',\n",
       "       'Prairie Du Rocher', 'Ottawa', 'Wilmington', 'Vienna',\n",
       "       'Schaumburg', 'Carbondale', 'Mt Vernon', 'Makanda', 'Lewistown',\n",
       "       'Havana', 'Spring Grove', 'Metropolis', 'Canton', 'Kinmundy',\n",
       "       'Danville', 'Charleston', 'Murphysboro', 'Vandalia', 'Grafton',\n",
       "       'Anna', 'Lockport', 'Baldwin', 'Pinckneyville', 'Belknap',\n",
       "       'Topeka', 'Peoria', 'Chester', 'Menard', 'Northbrook', 'Gurnee',\n",
       "       'Pontiac', 'Champaign', 'Urbana', 'Thebes', 'Lasalle', 'Newton',\n",
       "       'Cave In Rock', 'Carmi', 'Fairfield', 'Centralia', 'Markham',\n",
       "       'Morton', 'Knoxville', 'Cairo', 'Tamms', 'Dekalb', 'Quincy',\n",
       "       'Gorham', 'Waukegan', 'Mcleansboro', 'Zion', 'Jonesboro', 'Dixon',\n",
       "       'Biggsville', 'Herod', 'Manteno', 'Hillsboro', 'Lena', 'Hamel',\n",
       "       'Goreville', 'El Paso', 'Elgin', 'Robinson', 'Brimfield',\n",
       "       'Geneseo', 'Atkinson', 'Mineral', 'Bureau', 'Sheffield', 'Wyanet',\n",
       "       'Tiskilwa', 'Amboy', 'Ladd', 'Waterman', 'Pittsfield',\n",
       "       'Edwardsville', 'Equality', 'Bloomington', 'Macomb', 'Marshall',\n",
       "       'Lerna', 'Strasburg', 'Hartford', 'Leroy', 'Rosecrans',\n",
       "       'Villa Park', 'Harrisburg', 'Bonnie', 'Divernon', 'Findlay',\n",
       "       'Hutsonville', 'Galesburg', 'West City', 'Brookport', 'Troy',\n",
       "       'Tinley Park', 'Victoria', 'Johnsonville', 'Princeton', 'Moline',\n",
       "       'Seneca', 'Sparta', 'Rochester', 'Dixon Springs', 'Dongola',\n",
       "       'Elizabethtown', 'Beaverville', 'Arlington Heights', 'Warrenville',\n",
       "       'Collinsville', 'Milan', 'Naperville', 'Edwards', 'Taylorville',\n",
       "       'East Moline', 'Carrier Mills', 'Pawnee', 'Belleville', 'Marion',\n",
       "       'Colchester', 'Coal Valley', 'Rockford', 'Franklin Grove',\n",
       "       'Forest City', 'Lowpoint', 'Granite City', 'Harmon', 'Lacon',\n",
       "       'Glasford', 'Depue', 'Benton', 'Viola', 'Apple River',\n",
       "       'Bourbonnais', 'Savanna', 'Petersburg', 'Prophetstown', 'Sumner',\n",
       "       'Mt Morris', 'Miller City', 'Loves Park', 'Nashville', 'Mt Carmel',\n",
       "       'Channahon', 'Yorkville', 'Plano', 'Shabbona', 'Monee', 'Mchenry',\n",
       "       'Ingleside', 'Alton', 'Hines', 'Jacksonville', 'Kankakee',\n",
       "       'Sheridan', 'Mt Sterling', 'Old Shawneetown', 'Riggston',\n",
       "       'Cahokia', 'Kaskaskia', 'Lincoln Gardens', 'Fieldon', 'Hardin',\n",
       "       'Michael', 'Mackinaw', 'Oglesby', 'Coffeen', 'Griggsville',\n",
       "       'Rushville', 'Keithsburg', 'Manito', 'Bishop Hill', 'Rock Island',\n",
       "       'Bement', 'Mt Zion', 'Ellis Grove', 'Galena', 'Metamora',\n",
       "       'Mt Pulaski', 'Ramsey', 'Oquawka', 'Iuka', 'Lyons', 'Morrison',\n",
       "       'Bartlett', 'Rock Falls', 'Braceville', 'Bethany', 'Park Forest',\n",
       "       'Decatur', 'Hanna City', 'Roodhouse', 'Ina', 'Aurora',\n",
       "       'Chicago Heights', 'South Holland', 'Northfield', 'Hillside',\n",
       "       'Harvey', 'Alsip', 'Bolingbrook', 'Peotone', 'Fox River Heights',\n",
       "       'Prospect Heights', 'Minooka', 'Harvard', 'Richmond', 'Grays Lake',\n",
       "       'Woodstock', 'Marengo', 'Mccook', 'New Lenox', 'Elk Grove Village',\n",
       "       'Lynn Center', 'Oak Brook', 'Compton', 'Alpha', 'Davis Junction',\n",
       "       'Oak Park', 'Sycamore', 'Stockton', 'Galva', 'Freeport', 'Paw Paw',\n",
       "       'Mt Carroll', 'Creston', 'Silvis', 'Hampton', 'Elizabeth',\n",
       "       'South Beloit', 'Lyndon', 'Roscoe', 'Belvidere', 'Watseka',\n",
       "       'Sheldon', 'Gibson City', 'Wenona', 'Ashkum', 'Buckley', 'Carlock',\n",
       "       'Forrest', 'Benson', 'Gardner', 'Towanda', 'Funks Grove',\n",
       "       'Congerville', 'Monmouth', 'East Peoria', 'Aledo', 'Dahinda',\n",
       "       'Hopedale', 'Paris', 'Mattoon', 'Tuscola', 'Shelbyville',\n",
       "       'Greenup', 'Monticello', 'Pesotum', 'Argenta', 'Carlinville',\n",
       "       'Mason City', 'Carthage', 'Waggoner', 'Barry', 'Virginia',\n",
       "       'Sherman', 'Salem', 'Lawrenceville', 'Flora', 'Brownstown',\n",
       "       'Sandoval', 'Enfield', 'Olney', 'Grayville', 'Bethalto',\n",
       "       'Highland', 'Greenville', 'Jerseyville', 'Jeiseyville', 'Columbia',\n",
       "       'Hecker', 'Carrollton', 'Kampsville', 'Fairview Heights',\n",
       "       'Scott Af Base', 'Shiloh', 'Mitchell', 'Mascoutah', 'Zeigler',\n",
       "       'Shawneetown', 'Streamwood', 'Glen Ellyn', 'Sterling',\n",
       "       'Des Plaines', 'Crestwood', 'Elwood', 'Cypress', 'Ullin',\n",
       "       'Kingston', 'Beardstown', 'Delavan', 'North Riverside',\n",
       "       'Bartonville', 'Streator', 'West Frankfort', 'Machesney Park',\n",
       "       'Albany', 'Bondville', 'Savoy', 'Glenview', 'Downers Grove',\n",
       "       'Rockton', 'Tamaroa', 'Dundas', 'Mechanicsburg', '* No City *',\n",
       "       'Farmer City', 'Stone Park', 'Niles', 'Oak Forest', 'Melrose Park',\n",
       "       'Skokie', 'Riverdale', 'Rosemont', 'Hillsdale', 'Bridgeview',\n",
       "       'Cicero', 'Oak Lawn', 'Elmhurst', 'Calumet Park', 'Lake Bluff',\n",
       "       'Lake Forest', 'Mundelein', 'Hampshire', 'Highland Park',\n",
       "       'Plainfield', 'Venice', 'Washington Park', 'Forreston', 'Wheeler',\n",
       "       'Martinsville', 'East Moline, IL', 'Godfrey', 'East St. Louis',\n",
       "       'Riverton', 'Rantoul', 'Madison', 'Mansfield', 'Rapid City',\n",
       "       'Pekin', 'Park Rorest', 'Blue Island', 'Junction', 'LaSalle',\n",
       "       'Spring Valley', 'SPRINGFIELD', 'Pierron', 'Worth', 'Wood River',\n",
       "       'McLeansboro', 'Maryville', 'Aledd'], dtype=object)"
      ]
     },
     "execution_count": 17,
     "metadata": {},
     "output_type": "execute_result"
    }
   ],
   "source": [
    "# Read in the building inventory data\n",
    "data_url = 'https://raw.githubusercontent.com/UIUC-iSchool-DataViz/is445_bcubcg_fall2022/main/data/building_inventory.csv'\n",
    "building_data = pd.read_csv(data_url)\n",
    "building_data['City'].unique()"
   ]
  },
  {
   "cell_type": "markdown",
   "id": "37f9b010",
   "metadata": {},
   "source": [
    "#### Plot 1"
   ]
  },
  {
   "cell_type": "code",
   "execution_count": 25,
   "id": "d767260e",
   "metadata": {
    "scrolled": false
   },
   "outputs": [
    {
     "name": "stderr",
     "output_type": "stream",
     "text": [
      "C:\\Conda_DataViz\\envs\\DataViz\\lib\\site-packages\\altair\\utils\\core.py:317: FutureWarning: iteritems is deprecated and will be removed in a future version. Use .items instead.\n",
      "  for col_name, dtype in df.dtypes.iteritems():\n"
     ]
    },
    {
     "data": {
      "text/html": [
       "\n",
       "<div id=\"altair-viz-76befd9aeb144abf8897a09cb3d704f3\"></div>\n",
       "<script type=\"text/javascript\">\n",
       "  var VEGA_DEBUG = (typeof VEGA_DEBUG == \"undefined\") ? {} : VEGA_DEBUG;\n",
       "  (function(spec, embedOpt){\n",
       "    let outputDiv = document.currentScript.previousElementSibling;\n",
       "    if (outputDiv.id !== \"altair-viz-76befd9aeb144abf8897a09cb3d704f3\") {\n",
       "      outputDiv = document.getElementById(\"altair-viz-76befd9aeb144abf8897a09cb3d704f3\");\n",
       "    }\n",
       "    const paths = {\n",
       "      \"vega\": \"https://cdn.jsdelivr.net/npm//vega@5?noext\",\n",
       "      \"vega-lib\": \"https://cdn.jsdelivr.net/npm//vega-lib?noext\",\n",
       "      \"vega-lite\": \"https://cdn.jsdelivr.net/npm//vega-lite@4.17.0?noext\",\n",
       "      \"vega-embed\": \"https://cdn.jsdelivr.net/npm//vega-embed@6?noext\",\n",
       "    };\n",
       "\n",
       "    function maybeLoadScript(lib, version) {\n",
       "      var key = `${lib.replace(\"-\", \"\")}_version`;\n",
       "      return (VEGA_DEBUG[key] == version) ?\n",
       "        Promise.resolve(paths[lib]) :\n",
       "        new Promise(function(resolve, reject) {\n",
       "          var s = document.createElement('script');\n",
       "          document.getElementsByTagName(\"head\")[0].appendChild(s);\n",
       "          s.async = true;\n",
       "          s.onload = () => {\n",
       "            VEGA_DEBUG[key] = version;\n",
       "            return resolve(paths[lib]);\n",
       "          };\n",
       "          s.onerror = () => reject(`Error loading script: ${paths[lib]}`);\n",
       "          s.src = paths[lib];\n",
       "        });\n",
       "    }\n",
       "\n",
       "    function showError(err) {\n",
       "      outputDiv.innerHTML = `<div class=\"error\" style=\"color:red;\">${err}</div>`;\n",
       "      throw err;\n",
       "    }\n",
       "\n",
       "    function displayChart(vegaEmbed) {\n",
       "      vegaEmbed(outputDiv, spec, embedOpt)\n",
       "        .catch(err => showError(`Javascript Error: ${err.message}<br>This usually means there's a typo in your chart specification. See the javascript console for the full traceback.`));\n",
       "    }\n",
       "\n",
       "    if(typeof define === \"function\" && define.amd) {\n",
       "      requirejs.config({paths});\n",
       "      require([\"vega-embed\"], displayChart, err => showError(`Error loading script: ${err.message}`));\n",
       "    } else {\n",
       "      maybeLoadScript(\"vega\", \"5\")\n",
       "        .then(() => maybeLoadScript(\"vega-lite\", \"4.17.0\"))\n",
       "        .then(() => maybeLoadScript(\"vega-embed\", \"6\"))\n",
       "        .catch(showError)\n",
       "        .then(() => displayChart(vegaEmbed));\n",
       "    }\n",
       "  })({\"config\": {\"view\": {\"continuousWidth\": 400, \"continuousHeight\": 300}}, \"data\": {\"name\": \"data-f794fe14b1717022af1eea5ec4fadb54\"}, \"mark\": \"line\", \"encoding\": {\"color\": {\"field\": \"City\", \"legend\": {\"title\": \"City\"}, \"type\": \"nominal\"}, \"opacity\": {\"condition\": {\"value\": 1, \"selection\": \"selector003\"}, \"value\": 0.2}, \"tooltip\": [{\"field\": \"Year Constructed\", \"title\": \"Year Constructed\", \"type\": \"ordinal\"}, {\"field\": \"Square Footage\", \"title\": \"Mean Square Footage\", \"type\": \"quantitative\"}, {\"field\": \"City\", \"title\": \"City\", \"type\": \"nominal\"}], \"x\": {\"axis\": {\"title\": \"Year Constructed\"}, \"field\": \"Year Constructed\", \"type\": \"ordinal\"}, \"y\": {\"axis\": {\"title\": \"Mean Square Footage\"}, \"field\": \"Square Footage\", \"type\": \"quantitative\"}}, \"height\": 400, \"selection\": {\"selector003\": {\"type\": \"multi\", \"fields\": [\"Springfield\", \"Champaign\", \"Urbana\"], \"empty\": \"all\"}}, \"title\": \"Mean Square Footage by Year and City\", \"width\": 800, \"$schema\": \"https://vega.github.io/schema/vega-lite/v4.17.0.json\", \"datasets\": {\"data-f794fe14b1717022af1eea5ec4fadb54\": [{\"Year Constructed\": 1990, \"City\": \"Champaign\", \"Square Footage\": 5124.0}, {\"Year Constructed\": 1990, \"City\": \"Springfield\", \"Square Footage\": 35112.63636363636}, {\"Year Constructed\": 1990, \"City\": \"Urbana\", \"Square Footage\": 7696.666666666667}, {\"Year Constructed\": 1991, \"City\": \"Champaign\", \"Square Footage\": 22350.0}, {\"Year Constructed\": 1991, \"City\": \"Springfield\", \"Square Footage\": 19569.333333333332}, {\"Year Constructed\": 1991, \"City\": \"Urbana\", \"Square Footage\": 79207.0}, {\"Year Constructed\": 1992, \"City\": \"Springfield\", \"Square Footage\": 33115.25}, {\"Year Constructed\": 1992, \"City\": \"Urbana\", \"Square Footage\": 44571.666666666664}, {\"Year Constructed\": 1993, \"City\": \"Champaign\", \"Square Footage\": 4992.0}, {\"Year Constructed\": 1993, \"City\": \"Springfield\", \"Square Footage\": 63425.0}, {\"Year Constructed\": 1994, \"City\": \"Springfield\", \"Square Footage\": 5676.25}, {\"Year Constructed\": 1995, \"City\": \"Champaign\", \"Square Footage\": 11650.0}, {\"Year Constructed\": 1996, \"City\": \"Champaign\", \"Square Footage\": 3292.0}, {\"Year Constructed\": 1996, \"City\": \"Springfield\", \"Square Footage\": 4132.75}, {\"Year Constructed\": 1996, \"City\": \"Urbana\", \"Square Footage\": 131229.0}, {\"Year Constructed\": 1998, \"City\": \"Champaign\", \"Square Footage\": 4032.0}, {\"Year Constructed\": 1998, \"City\": \"Springfield\", \"Square Footage\": 4119.0}, {\"Year Constructed\": 1999, \"City\": \"Springfield\", \"Square Footage\": 9075.625}, {\"Year Constructed\": 2000, \"City\": \"Springfield\", \"Square Footage\": 21122.0}, {\"Year Constructed\": 2001, \"City\": \"Springfield\", \"Square Footage\": 58562.5}, {\"Year Constructed\": 2002, \"City\": \"Springfield\", \"Square Footage\": 48490.8}, {\"Year Constructed\": 2002, \"City\": \"Urbana\", \"Square Footage\": 5760.0}, {\"Year Constructed\": 2003, \"City\": \"Champaign\", \"Square Footage\": 50840.0}, {\"Year Constructed\": 2003, \"City\": \"Springfield\", \"Square Footage\": 14031.333333333334}, {\"Year Constructed\": 2004, \"City\": \"Springfield\", \"Square Footage\": 12000.0}, {\"Year Constructed\": 2004, \"City\": \"Urbana\", \"Square Footage\": 30405.5}, {\"Year Constructed\": 2005, \"City\": \"Springfield\", \"Square Footage\": 147352.5}, {\"Year Constructed\": 2005, \"City\": \"Urbana\", \"Square Footage\": 140000.0}, {\"Year Constructed\": 2006, \"City\": \"Springfield\", \"Square Footage\": 59855.25}, {\"Year Constructed\": 2006, \"City\": \"Urbana\", \"Square Footage\": 180000.0}, {\"Year Constructed\": 2007, \"City\": \"Springfield\", \"Square Footage\": 63000.0}, {\"Year Constructed\": 2008, \"City\": \"Champaign\", \"Square Footage\": 1875.0}, {\"Year Constructed\": 2008, \"City\": \"Springfield\", \"Square Footage\": 315.5}, {\"Year Constructed\": 2010, \"City\": \"Urbana\", \"Square Footage\": 35000.0}, {\"Year Constructed\": 2011, \"City\": \"Springfield\", \"Square Footage\": 1925.0}, {\"Year Constructed\": 2012, \"City\": \"Champaign\", \"Square Footage\": 2400.0}, {\"Year Constructed\": 2013, \"City\": \"Springfield\", \"Square Footage\": 31276.0}, {\"Year Constructed\": 2013, \"City\": \"Urbana\", \"Square Footage\": 230665.0}, {\"Year Constructed\": 2014, \"City\": \"Springfield\", \"Square Footage\": 4582.5}, {\"Year Constructed\": 2015, \"City\": \"Springfield\", \"Square Footage\": 8283.0}, {\"Year Constructed\": 2016, \"City\": \"Springfield\", \"Square Footage\": 3600.0}]}}, {\"mode\": \"vega-lite\"});\n",
       "</script>"
      ],
      "text/plain": [
       "alt.Chart(...)"
      ]
     },
     "execution_count": 25,
     "metadata": {},
     "output_type": "execute_result"
    }
   ],
   "source": [
    "cs_data = building_data[building_data['City'].isin(['Springfield', 'Champaign', 'Urbana']) & (building_data['Year Constructed'] >= 1990)]\n",
    "\n",
    "# Calculate the mean square footage of the buildings by year and city\n",
    "mean_sqft_by_year = cs_data.groupby(['Year Constructed', 'City'])['Square Footage'].mean().reset_index()\n",
    "\n",
    "city_selection = alt.selection_multi(fields=['Springfield', 'Champaign', 'Urbana'], empty='all')\n",
    "# Create a chart to show the mean square footage by year and city\n",
    "chart1 = alt.Chart(mean_sqft_by_year).mark_line().encode(\n",
    "    x=alt.X('Year Constructed:O', axis=alt.Axis(title='Year Constructed')),\n",
    "    y=alt.Y('Square Footage:Q', axis=alt.Axis(title='Mean Square Footage')),\n",
    "    color=alt.Color('City:N', legend=alt.Legend(title='City')),\n",
    "    tooltip=[alt.Tooltip('Year Constructed:O', title='Year Constructed'), \n",
    "             alt.Tooltip('Square Footage:Q', title='Mean Square Footage'), \n",
    "             alt.Tooltip('City:N', title='City')],\n",
    "            opacity=alt.condition(city_selection, alt.value(1), alt.value(0.2))\n",
    ").add_selection(city_selection).properties(\n",
    "    width=800,\n",
    "    height=400,\n",
    "    title='Mean Square Footage by Year and City'\n",
    ")\n",
    "\n",
    "\n",
    "chart1"
   ]
  },
  {
   "cell_type": "markdown",
   "id": "de6ddd3e",
   "metadata": {},
   "source": [
    "Saving plot 1 to github.io"
   ]
  },
  {
   "cell_type": "code",
   "execution_count": 12,
   "id": "3f2a3df5",
   "metadata": {},
   "outputs": [],
   "source": [
    "myJekyllDir = 'C:/Users/yash0/Desktop/Data Viz/Week 7/yashwasnik7.github.io/assets/json'"
   ]
  },
  {
   "cell_type": "code",
   "execution_count": 14,
   "id": "73670a02",
   "metadata": {},
   "outputs": [],
   "source": [
    "chart1.save(myJekyllDir+\"altair_buildings_chart.json\")"
   ]
  },
  {
   "cell_type": "markdown",
   "id": "e4e25bbc",
   "metadata": {},
   "source": [
    "Explanation: </br>\n",
    "1. Description - The above chart is a line graph comparing the mean square footage of Champaign, Urban and Springfield from the year 1990 and onwards. We have used pandas and altair libraries.</br>\n",
    "2. Design Choices - We used the default color scheme because we are only comparing 3 cities. We also used 'line' as our graph type because it made sense to display the trend over years using a line plot. </br>\n",
    "3. Data Transformation - Firstly, we filtered our data to keep only 3 cities i.e. Springfield, Champaign and Urbana. Second, we filtered the construction year to only 1990 and above becuase we were only interested in showing the trends for the last 30 years. Lastly, to calculate the mean Square Footage we grouped the dataset using groupby function over 'Year Constructed' and 'City' columns and used mean() to calculate the average. </br>\n"
   ]
  },
  {
   "cell_type": "markdown",
   "id": "7cbfb3a9",
   "metadata": {},
   "source": [
    "#### Plot 2"
   ]
  },
  {
   "cell_type": "code",
   "execution_count": 21,
   "id": "6da6b0d1",
   "metadata": {},
   "outputs": [
    {
     "name": "stderr",
     "output_type": "stream",
     "text": [
      "C:\\Conda_DataViz\\envs\\DataViz\\lib\\site-packages\\altair\\utils\\core.py:317: FutureWarning: iteritems is deprecated and will be removed in a future version. Use .items instead.\n",
      "  for col_name, dtype in df.dtypes.iteritems():\n"
     ]
    },
    {
     "data": {
      "text/html": [
       "\n",
       "<div id=\"altair-viz-4b04c1b52c924313a8657aa4cc6312ae\"></div>\n",
       "<script type=\"text/javascript\">\n",
       "  var VEGA_DEBUG = (typeof VEGA_DEBUG == \"undefined\") ? {} : VEGA_DEBUG;\n",
       "  (function(spec, embedOpt){\n",
       "    let outputDiv = document.currentScript.previousElementSibling;\n",
       "    if (outputDiv.id !== \"altair-viz-4b04c1b52c924313a8657aa4cc6312ae\") {\n",
       "      outputDiv = document.getElementById(\"altair-viz-4b04c1b52c924313a8657aa4cc6312ae\");\n",
       "    }\n",
       "    const paths = {\n",
       "      \"vega\": \"https://cdn.jsdelivr.net/npm//vega@5?noext\",\n",
       "      \"vega-lib\": \"https://cdn.jsdelivr.net/npm//vega-lib?noext\",\n",
       "      \"vega-lite\": \"https://cdn.jsdelivr.net/npm//vega-lite@4.17.0?noext\",\n",
       "      \"vega-embed\": \"https://cdn.jsdelivr.net/npm//vega-embed@6?noext\",\n",
       "    };\n",
       "\n",
       "    function maybeLoadScript(lib, version) {\n",
       "      var key = `${lib.replace(\"-\", \"\")}_version`;\n",
       "      return (VEGA_DEBUG[key] == version) ?\n",
       "        Promise.resolve(paths[lib]) :\n",
       "        new Promise(function(resolve, reject) {\n",
       "          var s = document.createElement('script');\n",
       "          document.getElementsByTagName(\"head\")[0].appendChild(s);\n",
       "          s.async = true;\n",
       "          s.onload = () => {\n",
       "            VEGA_DEBUG[key] = version;\n",
       "            return resolve(paths[lib]);\n",
       "          };\n",
       "          s.onerror = () => reject(`Error loading script: ${paths[lib]}`);\n",
       "          s.src = paths[lib];\n",
       "        });\n",
       "    }\n",
       "\n",
       "    function showError(err) {\n",
       "      outputDiv.innerHTML = `<div class=\"error\" style=\"color:red;\">${err}</div>`;\n",
       "      throw err;\n",
       "    }\n",
       "\n",
       "    function displayChart(vegaEmbed) {\n",
       "      vegaEmbed(outputDiv, spec, embedOpt)\n",
       "        .catch(err => showError(`Javascript Error: ${err.message}<br>This usually means there's a typo in your chart specification. See the javascript console for the full traceback.`));\n",
       "    }\n",
       "\n",
       "    if(typeof define === \"function\" && define.amd) {\n",
       "      requirejs.config({paths});\n",
       "      require([\"vega-embed\"], displayChart, err => showError(`Error loading script: ${err.message}`));\n",
       "    } else {\n",
       "      maybeLoadScript(\"vega\", \"5\")\n",
       "        .then(() => maybeLoadScript(\"vega-lite\", \"4.17.0\"))\n",
       "        .then(() => maybeLoadScript(\"vega-embed\", \"6\"))\n",
       "        .catch(showError)\n",
       "        .then(() => displayChart(vegaEmbed));\n",
       "    }\n",
       "  })({\"config\": {\"view\": {\"continuousWidth\": 400, \"continuousHeight\": 300}}, \"data\": {\"name\": \"data-e76d95d0fdd15119191fbc0005bdea91\"}, \"mark\": {\"type\": \"bar\", \"color\": \"green\"}, \"encoding\": {\"tooltip\": [{\"field\": \"County\", \"title\": \"County\", \"type\": \"nominal\"}, {\"field\": \"Total Floors\", \"title\": \"Maximum Total Floors\", \"type\": \"quantitative\"}], \"x\": {\"axis\": {\"title\": \"County\"}, \"field\": \"County\", \"type\": \"nominal\"}, \"y\": {\"axis\": {\"title\": \"Maximum Total Floors\"}, \"field\": \"Total Floors\", \"type\": \"quantitative\"}}, \"height\": 400, \"title\": \"Maximum Total Floors by County\", \"width\": 1000, \"$schema\": \"https://vega.github.io/schema/vega-lite/v4.17.0.json\", \"datasets\": {\"data-e76d95d0fdd15119191fbc0005bdea91\": [{\"County\": \"Adams\", \"Total Floors\": 5}, {\"County\": \"Alexander\", \"Total Floors\": 4}, {\"County\": \"Bond\", \"Total Floors\": 2}, {\"County\": \"Boone\", \"Total Floors\": 2}, {\"County\": \"Brown\", \"Total Floors\": 3}, {\"County\": \"Bureau\", \"Total Floors\": 5}, {\"County\": \"Calhoun\", \"Total Floors\": 3}, {\"County\": \"Carroll\", \"Total Floors\": 3}, {\"County\": \"Cass\", \"Total Floors\": 4}, {\"County\": \"Champaign\", \"Total Floors\": 13}, {\"County\": \"Christian\", \"Total Floors\": 3}, {\"County\": \"Clark\", \"Total Floors\": 3}, {\"County\": \"Clay\", \"Total Floors\": 2}, {\"County\": \"Clinton\", \"Total Floors\": 4}, {\"County\": \"Coles\", \"Total Floors\": 8}, {\"County\": \"Cook\", \"Total Floors\": 31}, {\"County\": \"Crawford\", \"Total Floors\": 1}, {\"County\": \"Cumberland\", \"Total Floors\": 1}, {\"County\": \"DeKalb\", \"Total Floors\": 13}, {\"County\": \"DeWitt\", \"Total Floors\": 3}, {\"County\": \"Douglas\", \"Total Floors\": 3}, {\"County\": \"DuPage\", \"Total Floors\": 3}, {\"County\": \"Edgar\", \"Total Floors\": 3}, {\"County\": \"Effingham\", \"Total Floors\": 4}, {\"County\": \"Fayette\", \"Total Floors\": 4}, {\"County\": \"Ford\", \"Total Floors\": 2}, {\"County\": \"Franklin\", \"Total Floors\": 4}, {\"County\": \"Fulton\", \"Total Floors\": 5}, {\"County\": \"Gallatin\", \"Total Floors\": 5}, {\"County\": \"Greene\", \"Total Floors\": 2}, {\"County\": \"Grundy\", \"Total Floors\": 4}, {\"County\": \"Hamilton\", \"Total Floors\": 1}, {\"County\": \"Hancock\", \"Total Floors\": 4}, {\"County\": \"Hardin\", \"Total Floors\": 4}, {\"County\": \"Henderson\", \"Total Floors\": 1}, {\"County\": \"Henry\", \"Total Floors\": 5}, {\"County\": \"Iroquois\", \"Total Floors\": 2}, {\"County\": \"Jackson\", \"Total Floors\": 10}, {\"County\": \"Jasper\", \"Total Floors\": 3}, {\"County\": \"Jefferson\", \"Total Floors\": 4}, {\"County\": \"Jersey\", \"Total Floors\": 4}, {\"County\": \"Jo Daviess\", \"Total Floors\": 5}, {\"County\": \"Johnson\", \"Total Floors\": 4}, {\"County\": \"Kane\", \"Total Floors\": 8}, {\"County\": \"Kankakee\", \"Total Floors\": 8}, {\"County\": \"Kendall\", \"Total Floors\": 5}, {\"County\": \"Knox\", \"Total Floors\": 4}, {\"County\": \"LaSalle\", \"Total Floors\": 5}, {\"County\": \"Lake\", \"Total Floors\": 5}, {\"County\": \"Lawrence\", \"Total Floors\": 3}, {\"County\": \"Lee\", \"Total Floors\": 5}, {\"County\": \"Livingston\", \"Total Floors\": 7}, {\"County\": \"Logan\", \"Total Floors\": 4}, {\"County\": \"Macon\", \"Total Floors\": 4}, {\"County\": \"Macoupin\", \"Total Floors\": 1}, {\"County\": \"Madison\", \"Total Floors\": 8}, {\"County\": \"Marion\", \"Total Floors\": 2}, {\"County\": \"Marshall\", \"Total Floors\": 2}, {\"County\": \"Mason\", \"Total Floors\": 4}, {\"County\": \"Massac\", \"Total Floors\": 3}, {\"County\": \"McDonough\", \"Total Floors\": 21}, {\"County\": \"McHenry\", \"Total Floors\": 4}, {\"County\": \"McLean\", \"Total Floors\": 8}, {\"County\": \"Menard\", \"Total Floors\": 4}, {\"County\": \"Mercer\", \"Total Floors\": 1}, {\"County\": \"Monroe\", \"Total Floors\": 1}, {\"County\": \"Montgomery\", \"Total Floors\": 3}, {\"County\": \"Morgan\", \"Total Floors\": 6}, {\"County\": \"Moultrie\", \"Total Floors\": 3}, {\"County\": \"Ogle\", \"Total Floors\": 4}, {\"County\": \"Peoria\", \"Total Floors\": 5}, {\"County\": \"Perry\", \"Total Floors\": 4}, {\"County\": \"Piatt\", \"Total Floors\": 1}, {\"County\": \"Pike\", \"Total Floors\": 4}, {\"County\": \"Pope\", \"Total Floors\": 3}, {\"County\": \"Pulaski\", \"Total Floors\": 1}, {\"County\": \"Putnam\", \"Total Floors\": 1}, {\"County\": \"Randolph\", \"Total Floors\": 20}, {\"County\": \"Richland\", \"Total Floors\": 1}, {\"County\": \"Rock Island\", \"Total Floors\": 5}, {\"County\": \"Saline\", \"Total Floors\": 4}, {\"County\": \"Sangamon\", \"Total Floors\": 16}, {\"County\": \"Schuyler\", \"Total Floors\": 2}, {\"County\": \"Scott\", \"Total Floors\": 1}, {\"County\": \"Shelby\", \"Total Floors\": 4}, {\"County\": \"St. Clair\", \"Total Floors\": 9}, {\"County\": \"Stark\", \"Total Floors\": 5}, {\"County\": \"Statewide\", \"Total Floors\": 4}, {\"County\": \"Stephenson\", \"Total Floors\": 4}, {\"County\": \"Tazewell\", \"Total Floors\": 4}, {\"County\": \"Union\", \"Total Floors\": 5}, {\"County\": \"Vermilion\", \"Total Floors\": 4}, {\"County\": \"Wabash\", \"Total Floors\": 1}, {\"County\": \"Warren\", \"Total Floors\": 2}, {\"County\": \"Washington\", \"Total Floors\": 1}, {\"County\": \"Wayne\", \"Total Floors\": 1}, {\"County\": \"White\", \"Total Floors\": 1}, {\"County\": \"Whiteside\", \"Total Floors\": 4}, {\"County\": \"Will\", \"Total Floors\": 6}, {\"County\": \"Williamson\", \"Total Floors\": 3}, {\"County\": \"Winnebago\", \"Total Floors\": 6}, {\"County\": \"Woodford\", \"Total Floors\": 4}]}}, {\"mode\": \"vega-lite\"});\n",
       "</script>"
      ],
      "text/plain": [
       "alt.Chart(...)"
      ]
     },
     "execution_count": 21,
     "metadata": {},
     "output_type": "execute_result"
    }
   ],
   "source": [
    "# Calculate the maximum total floors for each county\n",
    "max_floors_by_county = building_data.groupby('County')['Total Floors'].max().reset_index()\n",
    "\n",
    "# Create a chart to show the maximum total floors by county\n",
    "chart2 = alt.Chart(max_floors_by_county).mark_bar(color='green').encode(\n",
    "    x=alt.X('County:N', axis=alt.Axis(title='County')),\n",
    "    y=alt.Y('Total Floors:Q', axis=alt.Axis(title='Maximum Total Floors')),\n",
    "    tooltip=[alt.Tooltip('County:N', title='County'), alt.Tooltip('Total Floors:Q', title='Maximum Total Floors')]\n",
    ").properties(\n",
    "    width=1000,\n",
    "    height=400,\n",
    "    title='Maximum Total Floors by County'\n",
    ")\n",
    "\n",
    "chart2"
   ]
  },
  {
   "cell_type": "code",
   "execution_count": null,
   "id": "9e11cb83",
   "metadata": {},
   "outputs": [],
   "source": []
  },
  {
   "cell_type": "markdown",
   "id": "f1daa32a",
   "metadata": {},
   "source": [
    "Explanation: </br>\n",
    "1. Description - Above is a bar graph referred from wasnik-yash-assignment9 where we have plotted the maximum of total floors for all counties in Illinois using pandas and altair libraries.</br>\n",
    "2. Design Choices - Default color for our chart is blue. When hovering over a bar, 'county' name and 'maximum total floors' are displayed to the user in a white text box. </br>\n",
    "3. Data Transformation - We grouped the data county wise and extracted the maximum value of total floors using max(). </br>"
   ]
  },
  {
   "cell_type": "code",
   "execution_count": null,
   "id": "c3fd07b8",
   "metadata": {},
   "outputs": [],
   "source": []
  }
 ],
 "metadata": {
  "kernelspec": {
   "display_name": "Python 3 (ipykernel)",
   "language": "python",
   "name": "python3"
  },
  "language_info": {
   "codemirror_mode": {
    "name": "ipython",
    "version": 3
   },
   "file_extension": ".py",
   "mimetype": "text/x-python",
   "name": "python",
   "nbconvert_exporter": "python",
   "pygments_lexer": "ipython3",
   "version": "3.8.15"
  }
 },
 "nbformat": 4,
 "nbformat_minor": 5
}
